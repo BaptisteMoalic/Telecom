{
 "cells": [
  {
   "cell_type": "code",
   "execution_count": 1,
   "metadata": {},
   "outputs": [],
   "source": [
    "import matplotlib.pyplot as plt\n",
    "import numpy as np\n",
    "import tensorflow as tf\n",
    "from sklearn.preprocessing import StandardScaler\n",
    "import random as rd"
   ]
  },
  {
   "cell_type": "code",
   "execution_count": null,
   "metadata": {},
   "outputs": [],
   "source": [
    "'''\r\n",
    "Début de code propre pour filtrage non-linéaire avec MLP. N'aboutira pas pour cause de reshape, un autre code sera adopté pour répondre à\r\n",
    "cette problématique\r\n",
    "'''"
   ]
  },
  {
   "cell_type": "code",
   "execution_count": 3,
   "metadata": {},
   "outputs": [],
   "source": [
    "# Generate low-passed random signal\n",
    "def generate_randx(duration, nb_val):\n",
    "\n",
    "    \"\"\" Generate low-passed random signal with real and imaginary part.\\n\n",
    "    Parameters : \\n\n",
    "    \\t duration : time length of signal,\\n\n",
    "    \\t nb_val : number of samples in duration \"\"\"\n",
    "\n",
    "    x_axis = np.linspace(0, duration-1, nb_val)\n",
    "    x_data = np.zeros(x_axis.size, dtype = np.complex128)\n",
    "    for i in range(x_axis.size):\n",
    "        x_data[i] = rd.randint(0,100) + rd.randint(0,100)*1j\n",
    "    x_data = np.convolve(x_data, np.array([1,1,1,1,1,1,1,1,1,1,1,1,1])/13, mode='same')\n",
    "    return x_axis, x_data\n",
    "\n",
    "    '''\n",
    "    Il nous faut le x_axis, pour montrer la réponse du truc \n",
    "    ET\n",
    "    le x_data pour les prédictions\n",
    "    '''"
   ]
  },
  {
   "cell_type": "code",
   "execution_count": 8,
   "metadata": {},
   "outputs": [],
   "source": [
    "#Decal ne fonctionne pas, on préfèrera memory encore en-dessous\r\n",
    "\r\n",
    "def decal(x,h):\r\n",
    "    '''\r\n",
    "    Va associer à chaque tuple de h.shape entrées sa sortie\r\n",
    "    Doit prendre en compte le décalage dû à l'absence des retards\r\n",
    "    TODO: Prendre en compte les complexes!!!\r\n",
    "    '''\r\n",
    "    #x_c=np.copy(x)\r\n",
    "    #y_c=np.copy(y)\r\n",
    "    hlen=len(h)\r\n",
    "    xlen=len(x)\r\n",
    "    \r\n",
    "    #Liste des y sans les trucs en trop\r\n",
    "    #y_d=y_d[:-(len(h))+1]\r\n",
    "    #Rendu inutile avec mode='same' dans np.convolve\r\n",
    "\r\n",
    "    #Liste des x rassemblés en len(h)\r\n",
    "    i=0\r\n",
    "    x_d=np.array([])\r\n",
    "    for i in range(xlen):\r\n",
    "        x_temp_re=np.array([])\r\n",
    "        x_temp_im=np.array([])\r\n",
    "        for j in range(i,hlen+i):\r\n",
    "            if (j>(xlen-1)):\r\n",
    "                x_array_value=[0]\r\n",
    "                x_temp_re=np.append(x_temp_re,x_array_value)\r\n",
    "                x_temp_im=np.append(x_temp_im,x_array_value)\r\n",
    "            else:\r\n",
    "                x_array_value=x[j]\r\n",
    "                x_temp_re=np.append(x_temp_re,x_array_value)\r\n",
    "                x_temp_im=np.append(x_temp_im,x_array_value)\r\n",
    "        x_d=np.append(x_d,np.concatenate(x_temp_re,x_temp_im))\r\n",
    "    return x_d\r\n",
    "\r\n",
    "#return(np.reshape(x_d,(-1,hlen)))\r\n",
    "\r\n",
    "def memory(x, mem_depth):\r\n",
    "\r\n",
    "    \"\"\" Returns list of arrays of size 2*mem_depth containing real and imaginary parts of last samples (memory).\\n\r\n",
    "    Parameters : \\n\r\n",
    "    \\t x : input signal,\\n\r\n",
    "    \\t mem_depth : number of last samples taken into account in output at instant t \"\"\"\r\n",
    "    final = []\r\n",
    "    for i in range(mem_depth, x.size+1):\r\n",
    "        sample = x[i-mem_depth:i]\r\n",
    "        x_r = np.zeros(mem_depth) # real parts of sample\r\n",
    "        x_i = np.zeros(mem_depth) # imaginary parts of sample\r\n",
    "        for k in range(sample.size): # fill in real and imaginary samples\r\n",
    "            x_r[k] = sample[k].real\r\n",
    "            x_i[k] = sample[k].imag\r\n",
    "        final.append(np.concatenate((x_r, x_i)))\r\n",
    "        final.reshape((1,-1))\r\n",
    "    return final\r\n"
   ]
  },
  {
   "cell_type": "code",
   "execution_count": 9,
   "metadata": {},
   "outputs": [],
   "source": [
    "def output(x,h1,h2):\r\n",
    "    '''\r\n",
    "    On calcule la sortie, là on a que deux h, mais réfléchir à comment iplémenter plus (un tableau de h pour chaque ordre etc...)\r\n",
    "    On sépare Im et Re\r\n",
    "    '''\r\n",
    "    x_squared = x**2\r\n",
    "    sortie = np.convolve(x,h1,mode='same') + np.convolve(x_squared,h2,mode='same')\r\n",
    "    taille = len(sortie)\r\n",
    "    sortie_finale = np.zeros(taille,2)\r\n",
    "    for k in range(taille):\r\n",
    "        sortie_finale[k][0] = val.real\r\n",
    "        sortie_finale[k][1] = val.imag\r\n",
    "    return sortie_finale"
   ]
  },
  {
   "cell_type": "code",
   "execution_count": 10,
   "metadata": {},
   "outputs": [
    {
     "ename": "TypeError",
     "evalue": "only integer scalar arrays can be converted to a scalar index",
     "output_type": "error",
     "traceback": [
      "\u001b[1;31m---------------------------------------------------------------------------\u001b[0m",
      "\u001b[1;31mTypeError\u001b[0m                                 Traceback (most recent call last)",
      "\u001b[1;32m<ipython-input-10-87b2da1069e4>\u001b[0m in \u001b[0;36m<module>\u001b[1;34m\u001b[0m\n\u001b[0;32m      7\u001b[0m \u001b[1;33m\u001b[0m\u001b[0m\n\u001b[0;32m      8\u001b[0m \u001b[1;31m#On crée le bon tableau au bon format\u001b[0m\u001b[1;33m\u001b[0m\u001b[1;33m\u001b[0m\u001b[1;33m\u001b[0m\u001b[0m\n\u001b[1;32m----> 9\u001b[1;33m \u001b[0minput_mlp\u001b[0m \u001b[1;33m=\u001b[0m \u001b[0mmemory\u001b[0m\u001b[1;33m(\u001b[0m\u001b[0mx_samples\u001b[0m\u001b[1;33m,\u001b[0m\u001b[0mh1\u001b[0m\u001b[1;33m)\u001b[0m\u001b[1;33m\u001b[0m\u001b[1;33m\u001b[0m\u001b[0m\n\u001b[0m\u001b[0;32m     10\u001b[0m \u001b[1;31m#input_mlp = np.array(input_mlp)\u001b[0m\u001b[1;33m\u001b[0m\u001b[1;33m\u001b[0m\u001b[1;33m\u001b[0m\u001b[0m\n\u001b[0;32m     11\u001b[0m \u001b[1;33m\u001b[0m\u001b[0m\n",
      "\u001b[1;32m<ipython-input-8-06748de13954>\u001b[0m in \u001b[0;36mmemory\u001b[1;34m(x, mem_depth)\u001b[0m\n\u001b[0;32m     43\u001b[0m     \\t mem_depth : number of last samples taken into account in output at instant t \"\"\"\n\u001b[0;32m     44\u001b[0m     \u001b[0mfinal\u001b[0m \u001b[1;33m=\u001b[0m \u001b[1;33m[\u001b[0m\u001b[1;33m]\u001b[0m\u001b[1;33m\u001b[0m\u001b[1;33m\u001b[0m\u001b[0m\n\u001b[1;32m---> 45\u001b[1;33m     \u001b[1;32mfor\u001b[0m \u001b[0mi\u001b[0m \u001b[1;32min\u001b[0m \u001b[0mrange\u001b[0m\u001b[1;33m(\u001b[0m\u001b[0mmem_depth\u001b[0m\u001b[1;33m,\u001b[0m \u001b[0mx\u001b[0m\u001b[1;33m.\u001b[0m\u001b[0msize\u001b[0m\u001b[1;33m+\u001b[0m\u001b[1;36m1\u001b[0m\u001b[1;33m)\u001b[0m\u001b[1;33m:\u001b[0m\u001b[1;33m\u001b[0m\u001b[1;33m\u001b[0m\u001b[0m\n\u001b[0m\u001b[0;32m     46\u001b[0m         \u001b[0msample\u001b[0m \u001b[1;33m=\u001b[0m \u001b[0mx\u001b[0m\u001b[1;33m[\u001b[0m\u001b[0mi\u001b[0m\u001b[1;33m-\u001b[0m\u001b[0mmem_depth\u001b[0m\u001b[1;33m:\u001b[0m\u001b[0mi\u001b[0m\u001b[1;33m]\u001b[0m\u001b[1;33m\u001b[0m\u001b[1;33m\u001b[0m\u001b[0m\n\u001b[0;32m     47\u001b[0m         \u001b[0mx_r\u001b[0m \u001b[1;33m=\u001b[0m \u001b[0mnp\u001b[0m\u001b[1;33m.\u001b[0m\u001b[0mzeros\u001b[0m\u001b[1;33m(\u001b[0m\u001b[0mmem_depth\u001b[0m\u001b[1;33m)\u001b[0m \u001b[1;31m# real parts of sample\u001b[0m\u001b[1;33m\u001b[0m\u001b[1;33m\u001b[0m\u001b[0m\n",
      "\u001b[1;31mTypeError\u001b[0m: only integer scalar arrays can be converted to a scalar index"
     ]
    }
   ],
   "source": [
    "#Commencer par générer une entrée, avec randx, et les convolutions\r\n",
    "x_axe, x_samples = generate_randx(10,50)\r\n",
    "h1 = np.array([1,2,3,5])\r\n",
    "h2 = np.array([3,1,8,1])\r\n",
    "memory_size = len(h1)\r\n",
    "#TODO: fonction d'erreur si les deux convolutions ne sont pas de même taille\r\n",
    "\r\n",
    "#On crée le bon tableau au bon format\r\n",
    "input_mlp = memory(x_samples,h1)\r\n",
    "#input_mlp = np.array(input_mlp)\r\n",
    "\r\n",
    "#NORMALISATION\r\n",
    "scaler = StandardScaler()\r\n",
    "input_mlp = scaler.fit_transform(input_mlp)\r\n",
    "#print(input_mlp)\r\n",
    "\r\n",
    "#Puis, on calcule sa sortie\r\n",
    "y = output(x_samples,h1,h2)\r\n",
    "#y = y.reshape(-1,1)\r\n",
    "#print(y)\r\n",
    "scaler = StandardScaler()\r\n",
    "y = scaler.fit_transform(y)\r\n",
    "#print(y)"
   ]
  },
  {
   "cell_type": "code",
   "execution_count": 21,
   "metadata": {},
   "outputs": [
    {
     "name": "stdout",
     "output_type": "stream",
     "text": [
      "(1+1j)\n",
      "1.0\n",
      "1.0\n"
     ]
    }
   ],
   "source": [
    "u = 1+1j\n",
    "print(u)\n",
    "print(u.real)\n",
    "print(u.imag)"
   ]
  },
  {
   "cell_type": "code",
   "execution_count": null,
   "metadata": {},
   "outputs": [],
   "source": []
  }
 ],
 "metadata": {
  "interpreter": {
   "hash": "4c2180ed827e5daee474aae532baa15980d27d3076350016733b817de113ba0f"
  },
  "kernelspec": {
   "display_name": "Python 3.9.2 64-bit",
   "name": "python3"
  },
  "language_info": {
   "name": "python",
   "version": ""
  },
  "orig_nbformat": 4
 },
 "nbformat": 4,
 "nbformat_minor": 2
}