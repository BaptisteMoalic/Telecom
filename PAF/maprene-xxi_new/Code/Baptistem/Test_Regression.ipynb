{
  "cells": [
    {
      "cell_type": "code",
      "execution_count": 1,
      "metadata": {
        "id": "8RHYHMJl01xG"
      },
      "outputs": [],
      "source": [
        "import numpy as np\n",
        "import matplotlib.pyplot as plt\n",
        "from google.colab import files\n",
        "import tensorflow as tf\n",
        "import math"
      ]
    },
    {
      "cell_type": "code",
      "execution_count": null,
      "metadata": {},
      "outputs": [],
      "source": [
        "'''\r\n",
        "Test de régression. Fonctionne.\r\n",
        "'''"
      ]
    },
    {
      "cell_type": "code",
      "execution_count": 7,
      "metadata": {
        "colab": {
          "base_uri": "https://localhost:8080/",
          "height": 265
        },
        "id": "ctvYJmRh05hs",
        "outputId": "2e1e01e0-5384-4ed9-e5fb-e9cc744c0722"
      },
      "outputs": [
        {
          "data": {
            "image/png": "[encoded data removed]",
            "text/plain": [
              "<Figure size 432x288 with 1 Axes>"
            ]
          },
          "metadata": {
            "needs_background": "light",
            "tags": []
          },
          "output_type": "display_data"
        }
      ],
      "source": [
        "# Create noisy data\n",
        "x_data = np.linspace(-10, 10, num=1000)\n",
        "y_data = 0.1*x_data*np.cos(x_data) + 0.05*np.random.normal(size=1000)\n",
        "\n",
        "plt.plot(x_data, y_data)\n",
        "plt.grid()\n",
        "plt.show()"
      ]
    },
    {
      "cell_type": "code",
      "execution_count": 25,
      "metadata": {
        "id": "WP7VZlGg1TZ9"
      },
      "outputs": [],
      "source": [
        "model = tf.keras.Sequential()\n",
        "\n",
        "model.add(tf.keras.layers.Dense(1, \"linear\", input_shape=[1]))\n",
        "model.add(tf.keras.layers.Dense(256, \"sigmoid\"))\n",
        "model.add(tf.keras.layers.Dense(64, \"sigmoid\"))\n",
        "model.add(tf.keras.layers.Dense(64, \"sigmoid\"))\n",
        "model.add(tf.keras.layers.Dense(256, \"sigmoid\"))\n",
        "model.add(tf.keras.layers.Dense(1, \"linear\"))\n",
        "\n",
        "model.compile(loss=\"mse\", optimizer=\"adam\")\n"
      ]
    },
    {
      "cell_type": "code",
      "execution_count": 26,
      "metadata": {
        "colab": {
          "base_uri": "https://localhost:8080/"
        },
        "id": "_jUIcxSZ2do_",
        "outputId": "48ed5926-9ca4-4031-fdf3-71d4b53cb99d"
      },
      "outputs": [
        {
          "name": "stdout",
          "output_type": "stream",
          "text": [
            "Model: \"sequential_5\"\n",
            "_________________________________________________________________\n",
            "Layer (type)                 Output Shape              Param #   \n",
            "=================================================================\n",
            "dense_20 (Dense)             (None, 1)                 2         \n",
            "_________________________________________________________________\n",
            "dense_21 (Dense)             (None, 256)               512       \n",
            "_________________________________________________________________\n",
            "dense_22 (Dense)             (None, 64)                16448     \n",
            "_________________________________________________________________\n",
            "dense_23 (Dense)             (None, 64)                4160      \n",
            "_________________________________________________________________\n",
            "dense_24 (Dense)             (None, 256)               16640     \n",
            "_________________________________________________________________\n",
            "dense_25 (Dense)             (None, 1)                 257       \n",
            "=================================================================\n",
            "Total params: 38,019\n",
            "Trainable params: 38,019\n",
            "Non-trainable params: 0\n",
            "_________________________________________________________________\n"
          ]
        }
      ],
      "source": [
        "model.summary()"
      ]
    },
    {
      "cell_type": "code",
      "execution_count": 29,
      "metadata": {
        "colab": {
          "base_uri": "https://localhost:8080/"
        },
        "id": "_Yks7zWz2psJ",
        "outputId": "62895e72-d0ee-425e-d6eb-5f26da45ad24"
      },
      "outputs": [
        {
          "name": "stdout",
          "output_type": "stream",
          "text": [
            "Epoch 1/100\n",
            "1000/1000 [==============================] - 3s 3ms/step - loss: 0.0551\n",
            "Epoch 2/100\n",
            "1000/1000 [==============================] - 3s 3ms/step - loss: 0.0205\n",
            "Epoch 3/100\n",
            "1000/1000 [==============================] - 3s 3ms/step - loss: 0.0124\n",
            "Epoch 4/100\n",
            "1000/1000 [==============================] - 3s 3ms/step - loss: 0.0163\n",
            "Epoch 5/100\n",
            "1000/1000 [==============================] - 3s 3ms/step - loss: 0.0141\n",
            "Epoch 6/100\n",
            "1000/1000 [==============================] - 3s 3ms/step - loss: 0.0183\n",
            "Epoch 7/100\n",
            "1000/1000 [==============================] - 3s 3ms/step - loss: 0.0161\n",
            "Epoch 8/100\n",
            "1000/1000 [==============================] - 3s 3ms/step - loss: 0.0168\n",
            "Epoch 9/100\n",
            "1000/1000 [==============================] - 3s 3ms/step - loss: 0.0148\n",
            "Epoch 10/100\n",
            "1000/1000 [==============================] - 3s 3ms/step - loss: 0.0128\n",
            "Epoch 11/100\n",
            "1000/1000 [==============================] - 3s 3ms/step - loss: 0.0217\n",
            "Epoch 12/100\n",
            "1000/1000 [==============================] - 3s 3ms/step - loss: 0.0132\n",
            "Epoch 13/100\n",
            "1000/1000 [==============================] - 3s 3ms/step - loss: 0.0129\n",
            "Epoch 14/100\n",
            "1000/1000 [==============================] - 3s 3ms/step - loss: 0.0131\n",
            "Epoch 15/100\n",
            "1000/1000 [==============================] - 3s 3ms/step - loss: 0.0127\n",
            "Epoch 16/100\n",
            "1000/1000 [==============================] - 2s 2ms/step - loss: 0.0136\n",
            "Epoch 17/100\n",
            "1000/1000 [==============================] - 3s 3ms/step - loss: 0.0125\n",
            "Epoch 18/100\n",
            "1000/1000 [==============================] - 2s 2ms/step - loss: 0.0139\n",
            "Epoch 19/100\n",
            "1000/1000 [==============================] - 3s 3ms/step - loss: 0.0142\n",
            "Epoch 20/100\n",
            "1000/1000 [==============================] - 3s 3ms/step - loss: 0.0123\n",
            "Epoch 21/100\n",
            "1000/1000 [==============================] - 3s 3ms/step - loss: 0.0108\n",
            "Epoch 22/100\n",
            "1000/1000 [==============================] - 3s 3ms/step - loss: 0.0136\n",
            "Epoch 23/100\n",
            "1000/1000 [==============================] - 3s 3ms/step - loss: 0.0122\n",
            "Epoch 24/100\n",
            "1000/1000 [==============================] - 3s 3ms/step - loss: 0.0113\n",
            "Epoch 25/100\n",
            "1000/1000 [==============================] - 3s 3ms/step - loss: 0.0126\n",
            "Epoch 26/100\n",
            "1000/1000 [==============================] - 3s 3ms/step - loss: 0.0114\n",
            "Epoch 27/100\n",
            "1000/1000 [==============================] - 3s 3ms/step - loss: 0.0109\n",
            "Epoch 28/100\n",
            "1000/1000 [==============================] - 3s 3ms/step - loss: 0.0101\n",
            "Epoch 29/100\n",
            "1000/1000 [==============================] - 3s 3ms/step - loss: 0.0109\n",
            "Epoch 30/100\n",
            "1000/1000 [==============================] - 3s 3ms/step - loss: 0.0109\n",
            "Epoch 31/100\n",
            "1000/1000 [==============================] - 3s 3ms/step - loss: 0.0109\n",
            "Epoch 32/100\n",
            "1000/1000 [==============================] - 3s 3ms/step - loss: 0.0107\n",
            "Epoch 33/100\n",
            "1000/1000 [==============================] - 3s 3ms/step - loss: 0.0103\n",
            "Epoch 34/100\n",
            "1000/1000 [==============================] - 3s 3ms/step - loss: 0.0078\n",
            "Epoch 35/100\n",
            "1000/1000 [==============================] - 3s 3ms/step - loss: 0.0107\n",
            "Epoch 36/100\n",
            "1000/1000 [==============================] - 3s 3ms/step - loss: 0.0098\n",
            "Epoch 37/100\n",
            "1000/1000 [==============================] - 3s 3ms/step - loss: 0.0093\n",
            "Epoch 38/100\n",
            "1000/1000 [==============================] - 3s 3ms/step - loss: 0.0079\n",
            "Epoch 39/100\n",
            "1000/1000 [==============================] - 3s 3ms/step - loss: 0.0106\n",
            "Epoch 40/100\n",
            "1000/1000 [==============================] - 3s 3ms/step - loss: 0.0094\n",
            "Epoch 41/100\n",
            "1000/1000 [==============================] - 3s 3ms/step - loss: 0.0101\n",
            "Epoch 42/100\n",
            "1000/1000 [==============================] - 3s 3ms/step - loss: 0.0088\n",
            "Epoch 43/100\n",
            "1000/1000 [==============================] - 3s 3ms/step - loss: 0.0081\n",
            "Epoch 44/100\n",
            "1000/1000 [==============================] - 2s 2ms/step - loss: 0.0103\n",
            "Epoch 45/100\n",
            "1000/1000 [==============================] - 3s 3ms/step - loss: 0.0078\n",
            "Epoch 46/100\n",
            "1000/1000 [==============================] - 2s 2ms/step - loss: 0.0090\n",
            "Epoch 47/100\n",
            "1000/1000 [==============================] - 3s 3ms/step - loss: 0.0073\n",
            "Epoch 48/100\n",
            "1000/1000 [==============================] - 3s 3ms/step - loss: 0.0074\n",
            "Epoch 49/100\n",
            "1000/1000 [==============================] - 3s 3ms/step - loss: 0.0110\n",
            "Epoch 50/100\n",
            "1000/1000 [==============================] - 3s 3ms/step - loss: 0.0070\n",
            "Epoch 51/100\n",
            "1000/1000 [==============================] - 3s 3ms/step - loss: 0.0093\n",
            "Epoch 52/100\n",
            "1000/1000 [==============================] - 3s 3ms/step - loss: 0.0091\n",
            "Epoch 53/100\n",
            "1000/1000 [==============================] - 3s 3ms/step - loss: 0.0093\n",
            "Epoch 54/100\n",
            "1000/1000 [==============================] - 3s 3ms/step - loss: 0.0088\n",
            "Epoch 55/100\n",
            "1000/1000 [==============================] - 3s 3ms/step - loss: 0.0079\n",
            "Epoch 56/100\n",
            "1000/1000 [==============================] - 3s 3ms/step - loss: 0.0110\n",
            "Epoch 57/100\n",
            "1000/1000 [==============================] - 3s 3ms/step - loss: 0.0092\n",
            "Epoch 58/100\n",
            "1000/1000 [==============================] - 3s 3ms/step - loss: 0.0073\n",
            "Epoch 59/100\n",
            "1000/1000 [==============================] - 3s 3ms/step - loss: 0.0077\n",
            "Epoch 60/100\n",
            "1000/1000 [==============================] - 3s 3ms/step - loss: 0.0093\n",
            "Epoch 61/100\n",
            "1000/1000 [==============================] - 3s 3ms/step - loss: 0.0072\n",
            "Epoch 62/100\n",
            "1000/1000 [==============================] - 3s 3ms/step - loss: 0.0080\n",
            "Epoch 63/100\n",
            "1000/1000 [==============================] - 3s 3ms/step - loss: 0.0077\n",
            "Epoch 64/100\n",
            "1000/1000 [==============================] - 3s 3ms/step - loss: 0.0082\n",
            "Epoch 65/100\n",
            "1000/1000 [==============================] - 3s 3ms/step - loss: 0.0080\n",
            "Epoch 66/100\n",
            "1000/1000 [==============================] - 2s 2ms/step - loss: 0.0064\n",
            "Epoch 67/100\n",
            "1000/1000 [==============================] - 3s 3ms/step - loss: 0.0076\n",
            "Epoch 68/100\n",
            "1000/1000 [==============================] - 3s 3ms/step - loss: 0.0078\n",
            "Epoch 69/100\n",
            "1000/1000 [==============================] - 3s 3ms/step - loss: 0.0095\n",
            "Epoch 70/100\n",
            "1000/1000 [==============================] - 3s 3ms/step - loss: 0.0071\n",
            "Epoch 71/100\n",
            "1000/1000 [==============================] - 3s 3ms/step - loss: 0.0069\n",
            "Epoch 72/100\n",
            "1000/1000 [==============================] - 3s 3ms/step - loss: 0.0082\n",
            "Epoch 73/100\n",
            "1000/1000 [==============================] - 3s 3ms/step - loss: 0.0074\n",
            "Epoch 74/100\n",
            "1000/1000 [==============================] - 3s 3ms/step - loss: 0.0068\n",
            "Epoch 75/100\n",
            "1000/1000 [==============================] - 3s 3ms/step - loss: 0.0065\n",
            "Epoch 76/100\n",
            "1000/1000 [==============================] - 3s 3ms/step - loss: 0.0117\n",
            "Epoch 77/100\n",
            "1000/1000 [==============================] - 3s 3ms/step - loss: 0.0069\n",
            "Epoch 78/100\n",
            "1000/1000 [==============================] - 3s 3ms/step - loss: 0.0069\n",
            "Epoch 79/100\n",
            "1000/1000 [==============================] - 3s 3ms/step - loss: 0.0076\n",
            "Epoch 80/100\n",
            "1000/1000 [==============================] - 3s 3ms/step - loss: 0.0072\n",
            "Epoch 81/100\n",
            "1000/1000 [==============================] - 3s 3ms/step - loss: 0.0062\n",
            "Epoch 82/100\n",
            "1000/1000 [==============================] - 3s 3ms/step - loss: 0.0082\n",
            "Epoch 83/100\n",
            "1000/1000 [==============================] - 3s 3ms/step - loss: 0.0061\n",
            "Epoch 84/100\n",
            "1000/1000 [==============================] - 3s 3ms/step - loss: 0.0062\n",
            "Epoch 85/100\n",
            "1000/1000 [==============================] - 3s 3ms/step - loss: 0.0093\n",
            "Epoch 86/100\n",
            "1000/1000 [==============================] - 3s 3ms/step - loss: 0.0069\n",
            "Epoch 87/100\n",
            "1000/1000 [==============================] - 2s 2ms/step - loss: 0.0061\n",
            "Epoch 88/100\n",
            "1000/1000 [==============================] - 3s 3ms/step - loss: 0.0064\n",
            "Epoch 89/100\n",
            "1000/1000 [==============================] - 3s 3ms/step - loss: 0.0073\n",
            "Epoch 90/100\n",
            "1000/1000 [==============================] - 3s 3ms/step - loss: 0.0076\n",
            "Epoch 91/100\n",
            "1000/1000 [==============================] - 3s 3ms/step - loss: 0.0069\n",
            "Epoch 92/100\n",
            "1000/1000 [==============================] - 3s 3ms/step - loss: 0.0077\n",
            "Epoch 93/100\n",
            "1000/1000 [==============================] - 3s 3ms/step - loss: 0.0062\n",
            "Epoch 94/100\n",
            "1000/1000 [==============================] - 3s 3ms/step - loss: 0.0088\n",
            "Epoch 95/100\n",
            "1000/1000 [==============================] - 3s 3ms/step - loss: 0.0058\n",
            "Epoch 96/100\n",
            "1000/1000 [==============================] - 3s 3ms/step - loss: 0.0062\n",
            "Epoch 97/100\n",
            "1000/1000 [==============================] - 3s 3ms/step - loss: 0.0072\n",
            "Epoch 98/100\n",
            "1000/1000 [==============================] - 3s 3ms/step - loss: 0.0066\n",
            "Epoch 99/100\n",
            "1000/1000 [==============================] - 3s 3ms/step - loss: 0.0065\n",
            "Epoch 100/100\n",
            "1000/1000 [==============================] - 3s 3ms/step - loss: 0.0060\n"
          ]
        },
        {
          "data": {
            "text/plain": [
              "<tensorflow.python.keras.callbacks.History at 0x7f78a1831d10>"
            ]
          },
          "execution_count": 29,
          "metadata": {
            "tags": []
          },
          "output_type": "execute_result"
        }
      ],
      "source": [
        "model.fit(x_data, y_data, epochs=100, verbose=1)"
      ]
    },
    {
      "cell_type": "code",
      "execution_count": 30,
      "metadata": {
        "colab": {
          "base_uri": "https://localhost:8080/",
          "height": 265
        },
        "id": "Cm_u0_MQ3N9G",
        "outputId": "9a04c31b-4d9c-4414-aff7-861f528949ad"
      },
      "outputs": [
        {
          "data": {
            "image/png": "[encoded data removed]",
            "text/plain": [
              "<Figure size 432x288 with 1 Axes>"
            ]
          },
          "metadata": {
            "needs_background": "light",
            "tags": []
          },
          "output_type": "display_data"
        }
      ],
      "source": [
        "y_predicted = model.predict(x_data)\n",
        "\n",
        "plt.scatter(x_data[::1], y_data[::1])\n",
        "plt.plot(x_data, y_predicted, 'r', linewidth=4)\n",
        "plt.grid()\n",
        "plt.show()"
      ]
    }
  ],
  "metadata": {
    "colab": {
      "name": "Untitled0.ipynb",
      "provenance": []
    },
    "interpreter": {
      "hash": "4c2180ed827e5daee474aae532baa15980d27d3076350016733b817de113ba0f"
    },
    "kernelspec": {
      "display_name": "Python 3.9.2 64-bit",
      "name": "python3"
    },
    "language_info": {
      "name": "python",
      "version": ""
    }
  },
  "nbformat": 4,
  "nbformat_minor": 0
}