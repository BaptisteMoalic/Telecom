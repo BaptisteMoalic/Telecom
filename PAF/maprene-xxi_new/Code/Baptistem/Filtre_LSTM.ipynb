{
 "cells": [
  {
   "cell_type": "code",
   "execution_count": 7,
   "metadata": {},
   "outputs": [],
   "source": [
    "import numpy as np\r\n",
    "import matplotlib.pyplot as plt\r\n",
    "import pandas\r\n",
    "import math\r\n",
    "from keras.models import Sequential\r\n",
    "from keras.layers import Dense\r\n",
    "from keras.layers import LSTM\r\n",
    "from sklearn.preprocessing import MinMaxScaler\r\n",
    "from sklearn.metrics import mean_squared_error\r\n",
    "import random as rd\r\n",
    "import cmath\r\n",
    "import tensorflow as tf"
   ]
  },
  {
   "cell_type": "code",
   "execution_count": null,
   "metadata": {},
   "outputs": [],
   "source": [
    "'''\r\n",
    "Début d'implémentation de code d'un LSTM, n'aboutira pas.\r\n",
    "'''"
   ]
  },
  {
   "cell_type": "code",
   "execution_count": 9,
   "metadata": {},
   "outputs": [],
   "source": [
    "#Génération de signal\r\n",
    "def generate_random(temps,nb_of_samples):\r\n",
    "    axis = np.linspace(0,temps-1,nb_of_samples)\r\n",
    "    length = len(axis)\r\n",
    "    timestamps = np.zeros(length,dtype=np.complex128)\r\n",
    "    for k in range(length):\r\n",
    "        timestamps = complex(rd.randint(0,100),rd.randint(0,100)) #Complexe!!\r\n",
    "    timestamps = np.convolve(timestamps, np.array([1,1,1,1,1,1,1,1,1,1,1,1,1])/13, mode='same') #Passe-bas\r\n",
    "    return axis,timestamps"
   ]
  },
  {
   "cell_type": "code",
   "execution_count": 10,
   "metadata": {},
   "outputs": [],
   "source": [
    "#Séparation des parties réelle et complexe\r\n",
    "def separate(x):\r\n",
    "    length = len(x)\r\n",
    "    res = np.zeros(length,2)\r\n",
    "    for k in range(length):\r\n",
    "        res[k,0] = x[k].real\r\n",
    "        res[k,1] = x[k].imag\r\n",
    "    return res"
   ]
  },
  {
   "cell_type": "code",
   "execution_count": null,
   "metadata": {},
   "outputs": [],
   "source": [
    "def generate_data(temps,nb_of_samples):\r\n",
    "\r\n",
    "    #On génère les x randomly\r\n",
    "    aixs,timestamps = generate_random(temps,nb_of_samples)\r\n",
    "    timestamps_squared = timestamps**2\r\n",
    "\r\n",
    "    #Convolution\r\n",
    "    h1 = np.array([1,2,3,4])\r\n",
    "    h2 = np.array([3,2,1,5])\r\n",
    "    hlen = len(h1)\r\n",
    "    #TODO: Provoquer erreur si h1 et h2 sont de longueur !=\r\n",
    "\r\n",
    "    #Résultat de la convolution\r\n",
    "    res = np.convolve(timestamps,h1,mode='same') + np.convolve(timestamps_squared,h2,mode='same')\r\n",
    "\r\n",
    "    \r\n",
    "    "
   ]
  }
 ],
 "metadata": {
  "interpreter": {
   "hash": "4c2180ed827e5daee474aae532baa15980d27d3076350016733b817de113ba0f"
  },
  "kernelspec": {
   "display_name": "Python 3.9.2 64-bit",
   "name": "python3"
  },
  "language_info": {
   "codemirror_mode": {
    "name": "ipython",
    "version": 3
   },
   "file_extension": ".py",
   "mimetype": "text/x-python",
   "name": "python",
   "nbconvert_exporter": "python",
   "pygments_lexer": "ipython3",
   "version": "3.9.2"
  },
  "orig_nbformat": 4
 },
 "nbformat": 4,
 "nbformat_minor": 2
}